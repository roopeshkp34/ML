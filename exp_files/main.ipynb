{
 "cells": [
  {
   "cell_type": "code",
   "execution_count": 11,
   "metadata": {},
   "outputs": [
    {
     "name": "stdout",
     "output_type": "stream",
     "text": [
      "   id     name  age\n",
      "0   1  Roopesh   24\n",
      "1   2  Roopesh   24\n",
      "2   3  Roopesh   24\n",
      "3   4  Roopesh   24\n",
      "4   5  Roopesh   24\n"
     ]
    }
   ],
   "source": [
    "import pandas as pd\n",
    "\n",
    "list = [\n",
    "    {\n",
    "        \"id\":1,\n",
    "        \"name\": \"Roopesh\",\n",
    "        \"age\": 24\n",
    "    },\n",
    "    {\n",
    "        \"id\":2,\n",
    "        \"name\": \"Roopesh\",\n",
    "        \"age\": 24\n",
    "    },\n",
    "    {\n",
    "        \"id\":3,\n",
    "        \"name\": \"Roopesh\",\n",
    "        \"age\": 24\n",
    "    },\n",
    "    {\n",
    "        \"id\":4,\n",
    "        \"name\": \"Roopesh\",\n",
    "        \"age\": 24\n",
    "    },\n",
    "    {\n",
    "        \"id\":5,\n",
    "        \"name\": \"Roopesh\",\n",
    "        \"age\": 24\n",
    "    }\n",
    "]\n",
    "df = pd.DataFrame(data=list)\n",
    "print(df)"
   ]
  },
  {
   "cell_type": "code",
   "execution_count": null,
   "metadata": {},
   "outputs": [],
   "source": []
  }
 ],
 "metadata": {
  "kernelspec": {
   "display_name": "Python 3.9.13 ('env': venv)",
   "language": "python",
   "name": "python3"
  },
  "language_info": {
   "codemirror_mode": {
    "name": "ipython",
    "version": 3
   },
   "file_extension": ".py",
   "mimetype": "text/x-python",
   "name": "python",
   "nbconvert_exporter": "python",
   "pygments_lexer": "ipython3",
   "version": "3.9.13"
  },
  "orig_nbformat": 4,
  "vscode": {
   "interpreter": {
    "hash": "6c4fc14750b032ad35e556d9110fc75fbe92a72d1fe4a16256732b9d72840dec"
   }
  }
 },
 "nbformat": 4,
 "nbformat_minor": 2
}
